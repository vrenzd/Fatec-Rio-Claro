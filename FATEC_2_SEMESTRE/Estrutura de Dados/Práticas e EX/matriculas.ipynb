{
 "cells": [
  {
   "cell_type": "markdown",
   "id": "d92d1ceb",
   "metadata": {},
   "source": [
    "## Sistema de Gerenciamento de Matrículas"
   ]
  },
  {
   "cell_type": "markdown",
   "id": "6c6d0840",
   "metadata": {},
   "source": [
    "#### O sistema é composto por três classes principais:\n",
    "- **Aluno**: representa um aluno com nome, matrícula e lista de disciplinas\n",
    "- **Disciplina**: representa uma disciplina com nome, código e lista de alunos\n",
    "- **SistemaMatricula**: classe principal que gerencia alunos e disciplinas"
   ]
  },
  {
   "cell_type": "markdown",
   "id": "39ba6c79",
   "metadata": {},
   "source": [
    "\n",
    "## 1. Classe Aluno \n",
    "\n",
    "- A classe Aluno contém as informações básicas do estudante e métodos para gerenciar suas matrículas."
   ]
  },
  {
   "cell_type": "code",
   "execution_count": null,
   "id": "407dbc2b",
   "metadata": {},
   "outputs": [],
   "source": [
    "# Classe para representar um aluno\n",
    "class Aluno:\n",
    "    def __init__(self, nome, matricula):\n",
    "        self.nome = nome\n",
    "        self.matricula = matricula\n",
    "        self.disciplinas = []  # Lista de disciplinas que o aluno está matriculado\n",
    "        \n",
    "    def matricular_disciplina(self, disciplina):\n",
    "        if disciplina not in self.disciplinas:\n",
    "            self.disciplinas.append(disciplina)\n",
    "            disciplina.adicionar_aluno(self)  \n",
    "            print(f'Aluno {self.nome} matriculado na disciplina {disciplina.nome}')\n",
    "        else:\n",
    "            print(f'Aluno {self.nome} já está matriculado na disciplina {disciplina.nome}')\n",
    "\n",
    "    def cancelar_matricula(self, disciplina):\n",
    "        if disciplina in self.disciplinas:\n",
    "            self.disciplinas.remove(disciplina)\n",
    "            disciplina.remover_aluno(self)\n",
    "            print(f'Matrícula de {self.nome} cancelada na disciplina {disciplina.nome}')\n",
    "        else:\n",
    "            print(f'Aluno {self.nome} não está matriculado na disciplina {disciplina.nome}')\n",
    "\n",
    "    def listar_disciplinas(self):\n",
    "        if self.disciplinas:\n",
    "            print(f'Disciplinas de {self.nome}:')\n",
    "            for disciplina in self.disciplinas:\n",
    "                print(f'  - {disciplina.nome} ({disciplina.codigo})')\n",
    "        else:\n",
    "            print(f'{self.nome} não está matriculado em nenhuma disciplina')\n",
    "\n",
    "    def __str__(self):\n",
    "        return f'Aluno: {self.nome} (Matrícula: {self.matricula})'"
   ]
  },
  {
   "cell_type": "markdown",
   "id": "43d6fe4f",
   "metadata": {},
   "source": [
    "### 2. Classe Disciplina\n",
    "\n",
    "- A classe Disciplina representa uma matéria com seus alunos matriculados.\n"
   ]
  },
  {
   "cell_type": "code",
   "execution_count": 17,
   "id": "b017f927",
   "metadata": {},
   "outputs": [],
   "source": [
    "class Disciplina:\n",
    "    def __init__(self, nome, codigo):\n",
    "        self.nome = nome\n",
    "        self.codigo = codigo\n",
    "        self.alunos = []  # Alunos matriculados na disciplina\n",
    "        \n",
    "    def adicionar_aluno(self, aluno):  \n",
    "        if aluno not in self.alunos:\n",
    "            self.alunos.append(aluno)\n",
    "            \n",
    "    def remover_aluno(self, aluno):\n",
    "        if aluno in self.alunos:\n",
    "            self.alunos.remove(aluno)\n",
    "            \n",
    "    def listar_alunos(self):\n",
    "        if self.alunos:\n",
    "            print(f'Alunos matriculados em {self.nome}:')\n",
    "            for aluno in self.alunos:\n",
    "                print(f'  - {aluno.nome} (Matrícula: {aluno.matricula})')\n",
    "        else:\n",
    "            print(f'Nenhum aluno matriculado na disciplina {self.nome}')\n",
    "            \n",
    "    def get_total_alunos(self):  \n",
    "        return len(self.alunos)\n",
    "    \n",
    "    def __str__(self):\n",
    "        return f'Disciplina: {self.nome} (Código: {self.codigo})'  "
   ]
  },
  {
   "cell_type": "markdown",
   "id": "15893b62",
   "metadata": {},
   "source": [
    "### 3. Classe SistemaMatricula\n",
    "\n",
    "- A classe principal que coordena todo o sistema de matrículas."
   ]
  },
  {
   "cell_type": "code",
   "execution_count": null,
   "id": "6aab73ab",
   "metadata": {},
   "outputs": [],
   "source": [
    "class SistemaMatricula:\n",
    "    def __init__(self):\n",
    "        self.alunos = []\n",
    "        self.disciplinas = []\n",
    "        \n",
    "    def cadastrar_aluno(self, nome, matricula):\n",
    "        for aluno in self.alunos:\n",
    "            if aluno.matricula == matricula:\n",
    "                print(f'Já existe um aluno com a matrícula {matricula}')\n",
    "                return None\n",
    "            \n",
    "        novo_aluno = Aluno(nome, matricula)\n",
    "        self.alunos.append(novo_aluno)\n",
    "        print(f'Aluno {nome} cadastrado com sucesso!')\n",
    "        return novo_aluno\n",
    "    \n",
    "    def cadastrar_disciplina(self, nome, codigo):\n",
    "        for disciplina in self.disciplinas:\n",
    "            if disciplina.codigo == codigo:\n",
    "                print(f'Já existe uma disciplina com o código {codigo}')\n",
    "                return None\n",
    "            \n",
    "        nova_disciplina = Disciplina(nome, codigo)\n",
    "        self.disciplinas.append(nova_disciplina)\n",
    "        print(f'Disciplina {nome} cadastrada com sucesso!')\n",
    "        return nova_disciplina\n",
    "    \n",
    "    def buscar_aluno(self, matricula):\n",
    "        for aluno in self.alunos:\n",
    "            if aluno.matricula == matricula:\n",
    "                return aluno\n",
    "        return None\n",
    "    \n",
    "    def buscar_disciplina(self, codigo):\n",
    "        for disciplina in self.disciplinas:\n",
    "            if disciplina.codigo == codigo:\n",
    "                return disciplina\n",
    "        return None\n",
    "    \n",
    "    def listar_alunos(self):\n",
    "        if self.alunos:\n",
    "            print('Alunos cadastrados:')  \n",
    "            for aluno in self.alunos:\n",
    "                print(f'  - {aluno}')\n",
    "        else:\n",
    "            print('Nenhum aluno cadastrado')  \n",
    "            \n",
    "    def listar_disciplinas(self):\n",
    "        if self.disciplinas:\n",
    "            print('Disciplinas cadastradas:')\n",
    "            for disciplina in self.disciplinas:\n",
    "                print(f\"  - {disciplina} - {disciplina.get_total_alunos()} alunos\")  \n",
    "            print('Nenhuma disciplina cadastrada')\n",
    "            \n",
    "    def realizar_matricula(self, matricula_aluno, codigo_disciplina):\n",
    "        aluno = self.buscar_aluno(matricula_aluno)\n",
    "        disciplina = self.buscar_disciplina(codigo_disciplina)\n",
    "        \n",
    "        if not aluno:\n",
    "            print(f'Aluno com matrícula {matricula_aluno} não encontrado')  \n",
    "            return False\n",
    "        \n",
    "        if not disciplina:\n",
    "            print(f'Disciplina com código {codigo_disciplina} não encontrada')\n",
    "            return False\n",
    "        \n",
    "        aluno.matricular_disciplina(disciplina)\n",
    "        return True\n",
    "    \n",
    "    def cancelar_matricula(self, matricula_aluno, codigo_disciplina):\n",
    "        aluno = self.buscar_aluno(matricula_aluno)\n",
    "        disciplina = self.buscar_disciplina(codigo_disciplina)\n",
    "        \n",
    "        if not aluno:\n",
    "            print(f'Aluno com matrícula {matricula_aluno} não encontrado')  \n",
    "            return False\n",
    "        \n",
    "        if not disciplina:\n",
    "            print(f'Disciplina com código {codigo_disciplina} não encontrada')\n",
    "            return False\n",
    "        \n",
    "        aluno.cancelar_matricula(disciplina)  \n",
    "        return True"
   ]
  },
  {
   "cell_type": "markdown",
   "id": "4c068a30",
   "metadata": {},
   "source": [
    "## Criando o sistema e cadastrando alunos"
   ]
  },
  {
   "cell_type": "code",
   "execution_count": 19,
   "id": "5e87e848",
   "metadata": {},
   "outputs": [
    {
     "name": "stdout",
     "output_type": "stream",
     "text": [
      "=== SISTEMA DE GERENCIAMENTO DE MATRÍCULAS ===\n",
      "\n",
      "1. Cadastrando alunos:\n",
      "Aluno João Peidin Finin cadastrado com sucesso!\n",
      "Aluno Maria Madalena de Jesus cadastrado com sucesso!\n",
      "Aluno Pedrinho Matador de Porco cadastrado com sucesso!\n"
     ]
    },
    {
     "data": {
      "text/plain": [
       "<__main__.Aluno at 0x1da0fccbd90>"
      ]
     },
     "execution_count": 19,
     "metadata": {},
     "output_type": "execute_result"
    }
   ],
   "source": [
    "sistema = SistemaMatricula() # Cria sistema\n",
    "print('=== SISTEMA DE GERENCIAMENTO DE MATRÍCULAS ===\\n')\n",
    "\n",
    "# Cadastrar alunos\n",
    "print('1. Cadastrando alunos:')\n",
    "sistema.cadastrar_aluno('João Peidin Finin', '2023001')\n",
    "sistema.cadastrar_aluno('Maria Madalena de Jesus', '2023002')\n",
    "sistema.cadastrar_aluno('Pedrinho Matador de Porco', '2023003')"
   ]
  },
  {
   "cell_type": "markdown",
   "id": "894affa7",
   "metadata": {},
   "source": [
    "### Cadastrando disciplinas"
   ]
  },
  {
   "cell_type": "code",
   "execution_count": 20,
   "id": "5e7bffff",
   "metadata": {},
   "outputs": [
    {
     "name": "stdout",
     "output_type": "stream",
     "text": [
      "2. Cadastrando disciplinas:\n",
      "Disciplina Programação I cadastrada com sucesso!\n",
      "Disciplina Matemática cadastrada com sucesso!\n",
      "Disciplina Estrutura de Dados cadastrada com sucesso!\n"
     ]
    },
    {
     "data": {
      "text/plain": [
       "<__main__.Disciplina at 0x1da104e4190>"
      ]
     },
     "execution_count": 20,
     "metadata": {},
     "output_type": "execute_result"
    }
   ],
   "source": [
    "print('2. Cadastrando disciplinas:')\n",
    "sistema.cadastrar_disciplina('Programação I', 'PROG001')\n",
    "sistema.cadastrar_disciplina('Matemática', 'MAT001')\n",
    "sistema.cadastrar_disciplina('Estrutura de Dados', 'EDS001')"
   ]
  },
  {
   "cell_type": "markdown",
   "id": "55b7f4bc",
   "metadata": {},
   "source": [
    "### Realizando matrículas"
   ]
  },
  {
   "cell_type": "code",
   "execution_count": 21,
   "id": "c5cf42dd",
   "metadata": {},
   "outputs": [
    {
     "name": "stdout",
     "output_type": "stream",
     "text": [
      "3. Realizando matrículas:\n",
      "Aluno João Peidin Finin matriculado na disciplina Programação I\n",
      "Aluno João Peidin Finin matriculado na disciplina Matemática\n",
      "Aluno Maria Madalena de Jesus matriculado na disciplina Programação I\n",
      "Aluno Maria Madalena de Jesus matriculado na disciplina Estrutura de Dados\n",
      "Aluno Pedrinho Matador de Porco matriculado na disciplina Matemática\n"
     ]
    },
    {
     "data": {
      "text/plain": [
       "True"
      ]
     },
     "execution_count": 21,
     "metadata": {},
     "output_type": "execute_result"
    }
   ],
   "source": [
    "print('3. Realizando matrículas:')\n",
    "sistema.realizar_matricula('2023001', 'PROG001')\n",
    "sistema.realizar_matricula('2023001', 'MAT001')\n",
    "sistema.realizar_matricula('2023002', 'PROG001')\n",
    "sistema.realizar_matricula('2023002', 'EDS001')\n",
    "sistema.realizar_matricula('2023003', 'MAT001')"
   ]
  },
  {
   "cell_type": "markdown",
   "id": "e0e5c323",
   "metadata": {},
   "source": [
    "### Consultando informações do sistema"
   ]
  },
  {
   "cell_type": "code",
   "execution_count": 22,
   "id": "ab1485ad",
   "metadata": {},
   "outputs": [
    {
     "name": "stdout",
     "output_type": "stream",
     "text": [
      "4. Listando informações:\n",
      "Alunos cadastrados:\n",
      "  - Aluno: João Peidin Finin (Matrícula: 2023001)\n",
      "  - Aluno: Maria Madalena de Jesus (Matrícula: 2023002)\n",
      "  - Aluno: Pedrinho Matador de Porco (Matrícula: 2023003)\n",
      "\n",
      "Disciplinas cadastradas:\n",
      "  - Disciplina: Programação I (Código: PROG001) - 2 alunos\n",
      "  - Disciplina: Matemática (Código: MAT001) - 2 alunos\n",
      "  - Disciplina: Estrutura de Dados (Código: EDS001) - 1 alunos\n"
     ]
    }
   ],
   "source": [
    "print('4. Listando informações:')\n",
    "sistema.listar_alunos()\n",
    "print()\n",
    "sistema.listar_disciplinas()"
   ]
  },
  {
   "cell_type": "markdown",
   "id": "149086c9",
   "metadata": {},
   "source": [
    "### Consultando disciplinas de um aluno específico"
   ]
  },
  {
   "cell_type": "code",
   "execution_count": 23,
   "id": "49a96b53",
   "metadata": {},
   "outputs": [
    {
     "name": "stdout",
     "output_type": "stream",
     "text": [
      "5. Disciplinas por aluno:\n",
      "Disciplinas de João Peidin Finin:\n",
      "  - Programação I (PROG001)\n",
      "  - Matemática (MAT001)\n"
     ]
    }
   ],
   "source": [
    "print('5. Disciplinas por aluno:')\n",
    "aluno1 = sistema.buscar_aluno('2023001')\n",
    "if aluno1:\n",
    "    aluno1.listar_disciplinas()"
   ]
  },
  {
   "cell_type": "markdown",
   "id": "8586dba9",
   "metadata": {},
   "source": [
    "### Consultando alunos de uma disciplina específica"
   ]
  },
  {
   "cell_type": "code",
   "execution_count": 24,
   "id": "81e97534",
   "metadata": {},
   "outputs": [
    {
     "name": "stdout",
     "output_type": "stream",
     "text": [
      "6. Alunos por disciplina:\n",
      "Alunos matriculados em Programação I:\n",
      "  - João Peidin Finin (Matrícula: 2023001)\n",
      "  - Maria Madalena de Jesus (Matrícula: 2023002)\n"
     ]
    }
   ],
   "source": [
    "print('6. Alunos por disciplina:')\n",
    "disciplina1 = sistema.buscar_disciplina('PROG001')\n",
    "if disciplina1:\n",
    "    disciplina1.listar_alunos()"
   ]
  },
  {
   "cell_type": "markdown",
   "id": "a65a27f2",
   "metadata": {},
   "source": [
    "### Cancelando uma matrícula"
   ]
  },
  {
   "cell_type": "code",
   "execution_count": 25,
   "id": "313e7c9c",
   "metadata": {},
   "outputs": [
    {
     "name": "stdout",
     "output_type": "stream",
     "text": [
      "7. Cancelando uma matrícula:\n",
      "Matrícula de João Peidin Finin cancelada na disciplina Matemática\n"
     ]
    },
    {
     "data": {
      "text/plain": [
       "True"
      ]
     },
     "execution_count": 25,
     "metadata": {},
     "output_type": "execute_result"
    }
   ],
   "source": [
    "print('7. Cancelando uma matrícula:')\n",
    "sistema.cancelar_matricula('2023001', 'MAT001')"
   ]
  },
  {
   "cell_type": "markdown",
   "id": "68642dbb",
   "metadata": {},
   "source": [
    "### Verificando a situação após o cancelamento"
   ]
  },
  {
   "cell_type": "code",
   "execution_count": 26,
   "id": "db0a4e2f",
   "metadata": {},
   "outputs": [
    {
     "name": "stdout",
     "output_type": "stream",
     "text": [
      "8. Situação após cancelamento:\n",
      "Disciplinas de João Peidin Finin:\n",
      "  - Programação I (PROG001)\n"
     ]
    }
   ],
   "source": [
    "print('8. Situação após cancelamento:')\n",
    "if aluno1:\n",
    "    aluno1.listar_disciplinas()"
   ]
  }
 ],
 "metadata": {
  "kernelspec": {
   "display_name": "Python 3",
   "language": "python",
   "name": "python3"
  },
  "language_info": {
   "codemirror_mode": {
    "name": "ipython",
    "version": 3
   },
   "file_extension": ".py",
   "mimetype": "text/x-python",
   "name": "python",
   "nbconvert_exporter": "python",
   "pygments_lexer": "ipython3",
   "version": "3.13.6"
  }
 },
 "nbformat": 4,
 "nbformat_minor": 5
}

{
 "cells": [
  {
   "cell_type": "code",
   "execution_count": null,
   "id": "f432e8da",
   "metadata": {},
   "outputs": [],
   "source": [
    "import os\n",
    "# Prevenção de vazamento de memória do MKL no Windows\n",
    "os.environ[\"OMP_NUM_THREADS\"] = \"1\""
   ]
  },
  {
   "cell_type": "code",
   "execution_count": null,
   "id": "c545c1f9",
   "metadata": {},
   "outputs": [],
   "source": [
    "import matplotlib.pyplot as plt\n",
    "from sklearn.cluster import KMeans\n",
    "from sklearn.datasets import make_blobs \n",
    "import numpy as np # Importa numpy para um pequeno ajuste nos dados\n",
    "\n"
   ]
  },
  {
   "cell_type": "code",
   "execution_count": null,
   "id": "08fccd72",
   "metadata": {},
   "outputs": [],
   "source": [
    "# 1. Geração de Dados Sintéticos de Clientes\n",
    "# Definimos 4 centros para 4 perfis de cliente\n",
    "# cluster_std controla a dispersão dos dados em cada perfil.\n",
    "X, y_true = make_blobs(\n",
    "    n_samples=400, \n",
    "    centers=4, \n",
    "    cluster_std=1.5, \n",
    "    random_state=42\n",
    ")"
   ]
  },
  {
   "cell_type": "code",
   "execution_count": null,
   "id": "be1c8258",
   "metadata": {},
   "outputs": [],
   "source": [
    "# Garantimos que os valores sejam positivos e ajustamos as escalas.\n",
    "# Atributo 1: Renda Anual (em milhares)\n",
    "X[:, 0] = np.abs(X[:, 0] * 10 + 50) \n",
    "# Atributo 2: Frequência de Compra (Número de Compras/Ano)\n",
    "X[:, 1] = np.abs(X[:, 1] * 5 + 10)\n",
    "\n"
   ]
  },
  {
   "cell_type": "code",
   "execution_count": null,
   "id": "ef79445f",
   "metadata": {},
   "outputs": [],
   "source": [
    "# 2. Treinamento do Modelo K-Means\n",
    "# Buscamos os 4 perfis (clusters)\n",
    "kmeans = KMeans(n_clusters=4, random_state=42, n_init='auto')\n",
    "kmeans.fit(X)\n",
    "labels = kmeans.labels_\n",
    "centroids = kmeans.cluster_centers_\n"
   ]
  },
  {
   "cell_type": "code",
   "execution_count": null,
   "id": "b9882c64",
   "metadata": {},
   "outputs": [],
   "source": [
    "# 3. Visualização dos Perfis Encontrados\n",
    "plt.figure(figsize=(10, 7))\n",
    "\n",
    "# Plota os clientes, colorindo-os pelo perfil (cluster) encontrado\n",
    "plt.scatter(X[:, 0], X[:, 1], c=labels, cmap=\"viridis\", s=50, alpha=0.6)\n",
    "# Plota os centros de cada perfil\n",
    "plt.scatter(centroids[:, 0], centroids[:, 1], c=\"red\", marker=\"X\", s=300, label=\"Perfis (Centróides)\", edgecolors='black')\n",
    "\n",
    "plt.title(\"Segmentação Sintética de Clientes por K-Means\")\n",
    "plt.xlabel(\"Renda Anual (em milhares de R$)\")\n",
    "plt.ylabel(\"Frequência de Compra (Compras por Ano)\")\n",
    "plt.legend()\n",
    "plt.grid(True, linestyle='--', alpha=0.5)\n",
    "plt.show()\n",
    "\n"
   ]
  },
  {
   "cell_type": "code",
   "execution_count": null,
   "id": "85d050bb",
   "metadata": {},
   "outputs": [],
   "source": [
    "# 4. Análise dos Perfis (O que o K-Means Encontrou)\n",
    "print(\"\\n--- Centróides dos Perfis de Cliente Encontrados ---\")\n",
    "# Para entender o que cada cluster representa, analisamos o valor médio (centróide)\n",
    "# que o K-Means calculou para a Renda e a Frequência de cada um dos 4 perfis.\n",
    "for i, (renda, frequencia) in enumerate(centroids):\n",
    "    print(f\"Perfil {i+1}: Renda Média ≈ R$ {renda:.2f} mil | Frequência Média ≈ {frequencia:.2f} Compras/Ano\")"
   ]
  },
  {
   "cell_type": "code",
   "execution_count": null,
   "id": "ed620b02",
   "metadata": {},
   "outputs": [],
   "source": [
    "#Perfil 1 (Exemplo): Renda Média Alta e Frequência de Compra Baixa (Os \"Compradores Esporádicos Ricos\").\n",
    "#Perfil 2 (Exemplo): Renda Média Baixa e Frequência de Compra Alta (Os \"Compradores Frequentes com Orçamento\").\n",
    "#Perfil 3 (Exemplo): Renda Média Baixa e Frequência de Compra Baixa (Os \"Clientes Casuais\").\n",
    "#Perfil 4 (Exemplo): Renda Média Alta e Frequência de Compra Alta (Os \"Clientes VIP\")."
   ]
  }
 ],
 "metadata": {
  "kernelspec": {
   "display_name": "base",
   "language": "python",
   "name": "python3"
  },
  "language_info": {
   "codemirror_mode": {
    "name": "ipython",
    "version": 3
   },
   "file_extension": ".py",
   "mimetype": "text/x-python",
   "name": "python",
   "nbconvert_exporter": "python",
   "pygments_lexer": "ipython3",
   "version": "3.13.5"
  }
 },
 "nbformat": 4,
 "nbformat_minor": 5
}

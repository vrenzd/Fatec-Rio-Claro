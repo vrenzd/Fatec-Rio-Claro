{
 "cells": [
  {
   "cell_type": "code",
   "execution_count": null,
   "id": "57b6f54e",
   "metadata": {},
   "outputs": [],
   "source": [
    "#Define a variável de ambiente OMP_NUM_THREADS como \"1\". Isso limita o uso de threads paralelas pelo Kmeans\n",
    "import os\n",
    "os.environ[\"OMP_NUM_THREADS\"] = \"1\" "
   ]
  },
  {
   "cell_type": "code",
   "execution_count": null,
   "id": "135e6127",
   "metadata": {},
   "outputs": [],
   "source": [
    "import matplotlib.pyplot as plt\n",
    "from sklearn.cluster import KMeans\n",
    "from sklearn.datasets import make_blobs # Função make_blobs gera dados sintéticos que simulam situações reais "
   ]
  },
  {
   "cell_type": "code",
   "execution_count": null,
   "id": "1951f317",
   "metadata": {},
   "outputs": [],
   "source": [
    "# Armazena em X os atributos de entrada e em Y os rótulos de resultado: 300 pontos de dados, 3 clusters, desvio padrão de 0.7 de cada cluster, randomico, reproduz os mesmos dados.\n",
    "X, y = make_blobs(n_samples=300, centers=3, cluster_std=0.7, random_state=42)\n"
   ]
  },
  {
   "cell_type": "code",
   "execution_count": null,
   "id": "a0dae5b1",
   "metadata": {},
   "outputs": [],
   "source": [
    "#Diz ao algoritmo para tentar encontrar 3 grupos nos dados\n",
    "kmeans = KMeans(n_clusters=3, random_state=42)\n",
    "#Treina o modelo\n",
    "kmeans.fit(X)"
   ]
  },
  {
   "cell_type": "code",
   "execution_count": null,
   "id": "2c8f148f",
   "metadata": {},
   "outputs": [],
   "source": [
    "#obtem os rótulos de resultado do kmeans\n",
    "labels = kmeans.labels_\n",
    "#Extrai as coordenadas finais dos centros de cada cluster encontrados pelo algoritmo e armazena na variável centroids\n",
    "centroids = kmeans.cluster_centers_"
   ]
  },
  {
   "cell_type": "code",
   "execution_count": null,
   "id": "f0f3ac7f",
   "metadata": {},
   "outputs": [],
   "source": [
    "#PLota os resultados\n",
    "plt.figure(figsize=(8, 6))\n",
    "plt.scatter(X[:, 0], X[:, 1], c=labels, cmap=\"viridis\", s=30)\n",
    "plt.scatter(centroids[:, 0], centroids[:, 1], c=\"red\", marker=\"X\", s=200, label=\"Centróides\")\n",
    "plt.title(\"Exemplo de Agrupamento com K-Means\")\n",
    "plt.xlabel(\"Atributo 1\")\n",
    "plt.ylabel(\"Atributo 2\")\n",
    "plt.legend()\n",
    "plt.show()"
   ]
  }
 ],
 "metadata": {
  "kernelspec": {
   "display_name": "base",
   "language": "python",
   "name": "python3"
  },
  "language_info": {
   "codemirror_mode": {
    "name": "ipython",
    "version": 3
   },
   "file_extension": ".py",
   "mimetype": "text/x-python",
   "name": "python",
   "nbconvert_exporter": "python",
   "pygments_lexer": "ipython3",
   "version": "3.13.5"
  }
 },
 "nbformat": 4,
 "nbformat_minor": 5
}

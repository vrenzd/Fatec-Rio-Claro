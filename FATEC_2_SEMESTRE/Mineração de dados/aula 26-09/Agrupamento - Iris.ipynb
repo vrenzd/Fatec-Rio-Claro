{
 "cells": [
  {
   "cell_type": "code",
   "execution_count": null,
   "id": "36a31f7b",
   "metadata": {},
   "outputs": [],
   "source": [
    "import matplotlib.pyplot as plt\n",
    "from sklearn.datasets import load_iris\n",
    "from sklearn.cluster import KMeans\n",
    "import pandas as pd"
   ]
  },
  {
   "cell_type": "code",
   "execution_count": null,
   "id": "8266fca5",
   "metadata": {},
   "outputs": [],
   "source": [
    "iris = load_iris()\n",
    "X = iris.data  # atributos (sepal length, sepal width, petal length, petal width)\n",
    "y = iris.target  # classes reais (não usadas no clustering)"
   ]
  },
  {
   "cell_type": "code",
   "execution_count": null,
   "id": "c823e76b",
   "metadata": {},
   "outputs": [],
   "source": [
    "kmeans = KMeans(n_clusters=3, random_state=42, n_init=\"auto\")\n",
    "kmeans.fit(X)"
   ]
  },
  {
   "cell_type": "code",
   "execution_count": null,
   "id": "462579e4",
   "metadata": {},
   "outputs": [],
   "source": [
    "labels = kmeans.labels_  # rótulos preditos\n",
    "centroids = kmeans.cluster_centers_"
   ]
  },
  {
   "cell_type": "code",
   "execution_count": null,
   "id": "a88b939d",
   "metadata": {},
   "outputs": [],
   "source": [
    "plt.figure(figsize=(8, 6))\n",
    "plt.scatter(X[:, 2], X[:, 3], c=labels, cmap=\"viridis\", s=40)\n",
    "plt.scatter(centroids[:, 2], centroids[:, 3], c=\"red\", marker=\"X\", s=200, label=\"Centróides\")\n",
    "plt.xlabel(\"Comprimento da Pétala\")\n",
    "plt.ylabel(\"Largura da Pétala\")\n",
    "plt.title(\"Agrupamento do Conjunto Iris com K-Means\")\n",
    "plt.legend()\n",
    "plt.show()"
   ]
  },
  {
   "cell_type": "code",
   "execution_count": null,
   "id": "a3830c6c",
   "metadata": {},
   "outputs": [],
   "source": [
    "df = pd.DataFrame({\"Classe Real\": y, \"Cluster\": labels})\n",
    "print(\"\\nTabela de comparação entre classes reais e clusters:\")\n",
    "print(pd.crosstab(df[\"Classe Real\"], df[\"Cluster\"]))"
   ]
  }
 ],
 "metadata": {
  "kernelspec": {
   "display_name": "base",
   "language": "python",
   "name": "python3"
  },
  "language_info": {
   "codemirror_mode": {
    "name": "ipython",
    "version": 3
   },
   "file_extension": ".py",
   "mimetype": "text/x-python",
   "name": "python",
   "nbconvert_exporter": "python",
   "pygments_lexer": "ipython3",
   "version": "3.13.5"
  }
 },
 "nbformat": 4,
 "nbformat_minor": 5
}

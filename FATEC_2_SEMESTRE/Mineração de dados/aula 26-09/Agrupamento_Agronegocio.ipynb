{
 "cells": [
  {
   "cell_type": "code",
   "execution_count": null,
   "id": "551ae812",
   "metadata": {},
   "outputs": [],
   "source": [
    "import os\n",
    "# Prevenção de vazamento de memória do MKL no Windows\n",
    "os.environ[\"OMP_NUM_THREADS\"] = \"1\""
   ]
  },
  {
   "cell_type": "code",
   "execution_count": null,
   "id": "24d3799c",
   "metadata": {},
   "outputs": [],
   "source": [
    "import pandas as pd\n",
    "from sklearn.cluster import KMeans\n",
    "from sklearn.preprocessing import StandardScaler\n",
    "import matplotlib.pyplot as plt"
   ]
  },
  {
   "cell_type": "code",
   "execution_count": null,
   "id": "7eac7596",
   "metadata": {},
   "outputs": [],
   "source": [
    "# Carregar os dados\n",
    "df = pd.read_csv('dados_soja.csv')"
   ]
  },
  {
   "cell_type": "code",
   "execution_count": null,
   "id": "4d656d5e",
   "metadata": {},
   "outputs": [],
   "source": [
    "df.shape"
   ]
  },
  {
   "cell_type": "code",
   "execution_count": null,
   "id": "00c3f5f0",
   "metadata": {},
   "outputs": [],
   "source": [
    "df.head(30)"
   ]
  },
  {
   "cell_type": "code",
   "execution_count": null,
   "id": "3d65d863",
   "metadata": {},
   "outputs": [],
   "source": [
    "# Selecionar variáveis relevantes\n",
    "X = df[['id', 'valor']]\n",
    "\n"
   ]
  },
  {
   "cell_type": "code",
   "execution_count": null,
   "id": "a010b5e4",
   "metadata": {},
   "outputs": [],
   "source": [
    "X.head(30)"
   ]
  },
  {
   "cell_type": "code",
   "execution_count": null,
   "id": "cbb0c85e",
   "metadata": {},
   "outputs": [],
   "source": [
    "df['valor'] = df['valor'].replace('-', '0')              # Substitui '-' por '0'\n",
    "df['valor'] = df['valor'].astype(str).str.replace('.', '', regex=False)  # Remove pontos\n",
    "df['valor'] = df['valor'].astype(float)                 # Converte para float"
   ]
  },
  {
   "cell_type": "code",
   "execution_count": null,
   "id": "b86b0b71",
   "metadata": {},
   "outputs": [],
   "source": [
    "X.head(30)"
   ]
  },
  {
   "cell_type": "code",
   "execution_count": null,
   "id": "2206b83a",
   "metadata": {},
   "outputs": [],
   "source": [
    "X = df[['valor']].values\n"
   ]
  },
  {
   "cell_type": "code",
   "execution_count": null,
   "id": "73fc8210",
   "metadata": {},
   "outputs": [],
   "source": [
    "kmeans = KMeans(n_clusters=4, random_state=42)\n",
    "df['Cluster'] = kmeans.fit_predict(X)"
   ]
  },
  {
   "cell_type": "code",
   "execution_count": null,
   "id": "dbb35847",
   "metadata": {},
   "outputs": [],
   "source": [
    "print(df[['id', 'valor', 'Cluster']])"
   ]
  },
  {
   "cell_type": "code",
   "execution_count": null,
   "id": "27d61504",
   "metadata": {},
   "outputs": [],
   "source": [
    "plt.figure(figsize=(10,6))\n",
    "plt.scatter(df['id'], df['valor'], c=df['Cluster'], cmap='viridis')\n",
    "plt.xticks(rotation=90)  # rotaciona os nomes dos estados para caber no gráfico\n",
    "plt.xlabel('Estado')\n",
    "plt.ylabel('Produção de Soja')\n",
    "plt.title('Clusters de Produção de Soja por Estado')\n",
    "plt.colorbar(label='Cluster')\n",
    "plt.show()"
   ]
  }
 ],
 "metadata": {
  "kernelspec": {
   "display_name": "base",
   "language": "python",
   "name": "python3"
  },
  "language_info": {
   "codemirror_mode": {
    "name": "ipython",
    "version": 3
   },
   "file_extension": ".py",
   "mimetype": "text/x-python",
   "name": "python",
   "nbconvert_exporter": "python",
   "pygments_lexer": "ipython3",
   "version": "3.13.5"
  }
 },
 "nbformat": 4,
 "nbformat_minor": 5
}

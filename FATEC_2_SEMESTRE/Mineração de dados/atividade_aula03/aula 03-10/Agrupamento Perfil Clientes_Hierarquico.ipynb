{
 "cells": [
  {
   "cell_type": "code",
   "execution_count": null,
   "id": "73fd5ff9",
   "metadata": {},
   "outputs": [],
   "source": [
    "import matplotlib.pyplot as plt\n",
    "from sklearn.cluster import AgglomerativeClustering\n",
    "from sklearn.datasets import make_blobs\n",
    "from scipy.cluster.hierarchy import dendrogram, linkage, fcluster\n",
    "import numpy as np"
   ]
  },
  {
   "cell_type": "code",
   "execution_count": null,
   "id": "fa0de00d",
   "metadata": {},
   "outputs": [],
   "source": [
    "# 1. Geração de Dados Sintéticos de Clientes\n",
    "X, y_true = make_blobs(\n",
    "    n_samples=400, \n",
    "    centers=4, \n",
    "    cluster_std=1.5, \n",
    "    random_state=42\n",
    ")"
   ]
  },
  {
   "cell_type": "code",
   "execution_count": null,
   "id": "e7aadbde",
   "metadata": {},
   "outputs": [],
   "source": [
    "# Ajuste das escalas (Renda e Frequência)\n",
    "X[:, 0] = np.abs(X[:, 0] * 10 + 50)  # Renda Anual\n",
    "X[:, 1] = np.abs(X[:, 1] * 5 + 10)   # Frequência de Compra"
   ]
  },
  {
   "cell_type": "code",
   "execution_count": null,
   "id": "16c9f368",
   "metadata": {},
   "outputs": [],
   "source": [
    "# 2. Treinamento do Modelo de Agrupamento Hierárquico Aglomerativo\n",
    "n_clusters = 4\n",
    "agg = AgglomerativeClustering(n_clusters=n_clusters)\n",
    "labels = agg.fit_predict(X)"
   ]
  },
  {
   "cell_type": "code",
   "execution_count": null,
   "id": "c7ada9ad",
   "metadata": {},
   "outputs": [],
   "source": [
    "# 3. Cálculo das \"médias\" de cada cluster (substitui centróides)\n",
    "centroids = np.array([X[labels == i].mean(axis=0) for i in range(n_clusters)])"
   ]
  },
  {
   "cell_type": "code",
   "execution_count": null,
   "id": "187d1a12",
   "metadata": {},
   "outputs": [],
   "source": [
    "# 4. Visualização dos Perfis Encontrados\n",
    "plt.figure(figsize=(10, 7))\n",
    "plt.scatter(X[:, 0], X[:, 1], c=labels, cmap=\"tab10\", s=50, alpha=0.6)\n",
    "plt.scatter(centroids[:, 0], centroids[:, 1], \n",
    "            c=\"black\", marker=\"X\", s=300, \n",
    "            label=\"Perfis (Médias)\", edgecolors='white')\n",
    "plt.title(\"Segmentação Sintética de Clientes por Agrupamento Hierárquico\")\n",
    "plt.xlabel(\"Renda Anual (em milhares de R$)\")\n",
    "plt.ylabel(\"Frequência de Compra (Compras por Ano)\")\n",
    "plt.legend()\n",
    "plt.grid(True, linestyle='--', alpha=0.5)\n",
    "plt.show()"
   ]
  },
  {
   "cell_type": "code",
   "execution_count": null,
   "id": "99980863",
   "metadata": {},
   "outputs": [],
   "source": [
    "# 5. Exibição do Dendrograma com corte automático\n",
    "linked = linkage(X, method='ward')\n",
    "\n",
    "# Encontrar a altura exata do corte para gerar n_clusters\n",
    "clusters = fcluster(linked, n_clusters, criterion=\"maxclust\")\n",
    "# Pega a distância onde o corte separa os clusters\n",
    "distancias = sorted(linked[:, 2], reverse=True)\n",
    "cut_height = distancias[n_clusters-1]  # altura do corte automático\n",
    "\n",
    "plt.figure(figsize=(12, 6))\n",
    "dendrogram(\n",
    "    linked,\n",
    "    truncate_mode=\"lastp\",  \n",
    "    p=20,                   \n",
    "    leaf_rotation=45,\n",
    "    leaf_font_size=10,\n",
    "    show_contracted=True,\n",
    "    color_threshold=cut_height  # pinta cada grupo com cor diferente\n",
    ")\n",
    "\n",
    "plt.axhline(y=cut_height, c='red', linestyle='--', label=f\"Corte para {n_clusters} Clusters\")\n",
    "plt.title(\"Dendrograma do Agrupamento Hierárquico (Ward)\")\n",
    "plt.xlabel(\"Clusters\")\n",
    "plt.ylabel(\"Distância (Inércia)\")\n",
    "plt.legend()\n",
    "plt.show()"
   ]
  },
  {
   "cell_type": "code",
   "execution_count": null,
   "id": "2ea4e3f3",
   "metadata": {},
   "outputs": [],
   "source": [
    "# 6. Análise dos Perfis\n",
    "print(\"\\n--- Médias dos Perfis de Cliente Encontrados ---\")\n",
    "for i, (renda, frequencia) in enumerate(centroids):\n",
    "    print(f\"Perfil {i+1}: Renda Média ≈ R$ {renda:.2f} mil | Frequência Média ≈ {frequencia:.2f} Compras/Ano\")"
   ]
  },
  {
   "cell_type": "code",
   "execution_count": null,
   "id": "bc537c2c",
   "metadata": {},
   "outputs": [],
   "source": []
  }
 ],
 "metadata": {
  "kernelspec": {
   "display_name": "base",
   "language": "python",
   "name": "python3"
  },
  "language_info": {
   "codemirror_mode": {
    "name": "ipython",
    "version": 3
   },
   "file_extension": ".py",
   "mimetype": "text/x-python",
   "name": "python",
   "nbconvert_exporter": "python",
   "pygments_lexer": "ipython3",
   "version": "3.13.5"
  }
 },
 "nbformat": 4,
 "nbformat_minor": 5
}

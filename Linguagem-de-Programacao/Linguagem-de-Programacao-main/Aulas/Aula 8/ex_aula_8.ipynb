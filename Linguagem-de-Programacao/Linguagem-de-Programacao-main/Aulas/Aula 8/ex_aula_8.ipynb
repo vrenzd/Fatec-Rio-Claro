{
 "cells": [
  {
   "cell_type": "code",
   "execution_count": null,
   "id": "5c1e3b17",
   "metadata": {},
   "outputs": [
    {
     "name": "stdout",
     "output_type": "stream",
     "text": [
      "A palavra \"Python\" 2 vezes na frase.\n"
     ]
    }
   ],
   "source": [
    "# Exercicio 1\n",
    "\n",
    "frase = input('Digite uma frase: ')\n",
    "contador = frase.lower().count(\"python\")\n",
    "\n",
    "print(f'A palavra \"Python\" {contador} vezes na frase.')"
   ]
  },
  {
   "cell_type": "code",
   "execution_count": null,
   "id": "aff5048a",
   "metadata": {},
   "outputs": [
    {
     "name": "stdout",
     "output_type": "stream",
     "text": [
      "A frase não começa com \"bom dia\" e também não termina com \"obrigado\".\n"
     ]
    }
   ],
   "source": [
    "# Exercicio 2\n",
    "\n",
    "frase = input('Digite uma frase: ')\n",
    "\n",
    "if frase.startswith(\"bom dia\") and frase.endswith(\"obrigado\"):\n",
    "    print('A frase começa com \"bom dia\" e termina com \"obrigado\".')\n",
    "elif frase.startswith(\"bom dia\"):\n",
    "    print('A frase começa com \"bom dia\".')\n",
    "elif frase.endswith(\"obrigado\"):\n",
    "    print('A frase termina com \"obrigado\".')\n",
    "else:\n",
    "    print('A frase não começa com \"bom dia\" e também não termina com \"obrigado\".')\n"
   ]
  },
  {
   "cell_type": "code",
   "execution_count": 5,
   "id": "f983d941",
   "metadata": {},
   "outputs": [
    {
     "name": "stdout",
     "output_type": "stream",
     "text": [
      "A palavra todos aparece na posição 16\n"
     ]
    }
   ],
   "source": [
    "# Exercicio 3\n",
    "\n",
    "frase = input('Digite uma frase: ')\n",
    "palavra = input('Digite a palavra que deseja encontrar: ')\n",
    "\n",
    "posicao = frase.lower().find(palavra.lower())\n",
    "\n",
    "if posicao != -1:\n",
    "    print(f'A palavra {palavra} aparece na posição {posicao}')\n",
    "else:\n",
    "    print(f'A palvra {palavra} não foi encontrada na frase.')"
   ]
  },
  {
   "cell_type": "code",
   "execution_count": 6,
   "id": "21295b00",
   "metadata": {},
   "outputs": [
    {
     "name": "stdout",
     "output_type": "stream",
     "text": [
      "Frase censurada: filha você é ****\n"
     ]
    }
   ],
   "source": [
    "# Exercicio 4\n",
    "\n",
    "frase = input('Digite uma frase: ')\n",
    "\n",
    "palavra_obscena = frase.replace(\"bobo\", \"****\")\n",
    "print(f'Frase censurada: {palavra_obscena}')"
   ]
  },
  {
   "cell_type": "code",
   "execution_count": 7,
   "id": "b156bfeb",
   "metadata": {},
   "outputs": [
    {
     "name": "stdout",
     "output_type": "stream",
     "text": [
      "Palavra modificada: Ol@, tudo b3m\n"
     ]
    }
   ],
   "source": [
    "# Exercicio 5\n",
    "frase = input('Digite uma frase')\n",
    "\n",
    "palavra_trocada = frase.replace('a','@').replace('e','3')\n",
    "print(f'Palavra modificada: {palavra_trocada}')"
   ]
  },
  {
   "cell_type": "code",
   "execution_count": 8,
   "metadata": {},
   "outputs": [
    {
     "name": "stdout",
     "output_type": "stream",
     "text": [
      "A vogal \"a\" aparece 1\n",
      "A vogal \"e\" aparece 2\n",
      "A vogal \"i\" aparece 1\n",
      "A vogal \"o\" aparece 4\n",
      "A vogal \"u\" aparece 0\n"
     ]
    }
   ],
   "source": [
    "# Exercicio 6\n",
    "frase = input('Digite uma frase: ').lower()\n",
    "\n",
    "vogais = 'aeiou'\n",
    "\n",
    "for vogal in vogais:\n",
    "    print(f'A vogal \"{vogal}\" aparece {frase.count(vogal)}')\n"
   ]
  },
  {
   "cell_type": "code",
   "execution_count": 9,
   "id": "15d61bdc",
   "metadata": {},
   "outputs": [
    {
     "name": "stdout",
     "output_type": "stream",
     "text": [
      "Palavra invertida: osso\n",
      "É um palíndromo!\n"
     ]
    }
   ],
   "source": [
    "# Exercicio 7\n",
    "\n",
    "palavra = input('Digite uma palavra: ').lower()\n",
    "\n",
    "palavra_invertida = palavra[::-1]\n",
    "print(f'Palavra invertida: {palavra_invertida}')\n",
    "\n",
    "if palavra == palavra_invertida:\n",
    "    print('É um palíndromo!')\n",
    "else:\n",
    "    print('Não é um palíndromo')"
   ]
  },
  {
   "cell_type": "code",
   "execution_count": null,
   "id": "1f740d9e",
   "metadata": {},
   "outputs": [
    {
     "name": "stdout",
     "output_type": "stream",
     "text": [
      "Senha aceita\n"
     ]
    }
   ],
   "source": [
    "# Exercicio 8\n",
    "\n",
    "senha = input('Digite uma senha: ')\n",
    "\n",
    "tem_tamanho = len(senha) >= 8\n",
    "tem_especial = any(caracteres in \"!@#$%&\" for caracteres in senha)\n",
    "\n",
    "if tem_tamanho and tem_especial:\n",
    "    print('Senha aceita!')\n",
    "else:\n",
    "    print('Senha inválida!')\n"
   ]
  }
 ],
 "metadata": {
  "kernelspec": {
   "display_name": "Python 3",
   "language": "python",
   "name": "python3"
  },
  "language_info": {
   "codemirror_mode": {
    "name": "ipython",
    "version": 3
   },
   "file_extension": ".py",
   "mimetype": "text/x-python",
   "name": "python",
   "nbconvert_exporter": "python",
   "pygments_lexer": "ipython3",
   "version": "3.12.2"
  }
 },
 "nbformat": 4,
 "nbformat_minor": 5
}

{
 "cells": [
  {
   "cell_type": "markdown",
   "id": "37afeb23",
   "metadata": {},
   "source": [
    "### Exercício 1 – Itens em comum"
   ]
  },
  {
   "cell_type": "code",
   "execution_count": 15,
   "id": "36860491",
   "metadata": {},
   "outputs": [
    {
     "name": "stdout",
     "output_type": "stream",
     "text": [
      "Itens em comum: {'leite', 'arroz'}\n"
     ]
    }
   ],
   "source": [
    "joao = {\"arroz\", \"feijão\", \"macarrão\", \"leite\"}\n",
    "maria = {\"leite\", \"café\", \"açúcar\", \"arroz\"}\n",
    "\n",
    "itens_comuns = joao.intersection(maria)\n",
    "print(f\"Itens em comum: {itens_comuns}\")"
   ]
  },
  {
   "cell_type": "markdown",
   "id": "17542bd3",
   "metadata": {},
   "source": [
    "### Exercício 2 – Itens exclusivos"
   ]
  },
  {
   "cell_type": "code",
   "execution_count": 16,
   "id": "d346045d",
   "metadata": {},
   "outputs": [
    {
     "name": "stdout",
     "output_type": "stream",
     "text": [
      "Itens que apenas Maria comprou: {'açúcar', 'café'}\n"
     ]
    }
   ],
   "source": [
    "itens_exclusivos_maria = maria.difference(joao)\n",
    "print(f\"Itens que apenas Maria comprou: {itens_exclusivos_maria}\")"
   ]
  },
  {
   "cell_type": "markdown",
   "id": "666f5162",
   "metadata": {},
   "source": [
    "### Exercício 3 - Lista sem repetição\n"
   ]
  },
  {
   "cell_type": "code",
   "execution_count": 17,
   "id": "cbf63b23",
   "metadata": {},
   "outputs": [
    {
     "name": "stdout",
     "output_type": "stream",
     "text": [
      "Dias únicos: {'terça', 'sexta', 'quarta', 'quinta', 'segunda', 'domingo', 'sábado'}\n"
     ]
    }
   ],
   "source": [
    "dias = (\"segunda\", \"terça\", \"quarta\", \"quinta\", \"sexta\", \"sábado\", \"domingo\")\n",
    "dias_unicos = set(dias)\n",
    "\n",
    "print(f\"Dias únicos: {dias_unicos}\" )"
   ]
  },
  {
   "cell_type": "markdown",
   "id": "ab310dbb",
   "metadata": {},
   "source": [
    "### Exercício 4 - Acesso por índice"
   ]
  },
  {
   "cell_type": "code",
   "execution_count": 18,
   "id": "c4e6ba2b",
   "metadata": {},
   "outputs": [
    {
     "name": "stdout",
     "output_type": "stream",
     "text": [
      "Primeiro dia: segunda\n",
      "Terceiro dia: quarta\n",
      "Último dia: domingo\n"
     ]
    }
   ],
   "source": [
    "print(f\"Primeiro dia: {dias[0]}\")\n",
    "print(f\"Terceiro dia: {dias[2]}\")\n",
    "print(f\"Último dia: {dias[-1]}\")"
   ]
  },
  {
   "cell_type": "markdown",
   "id": "2eaedaf4",
   "metadata": {},
   "source": [
    "### Exercício 5 - Desempacotamento de tupla"
   ]
  },
  {
   "cell_type": "code",
   "execution_count": 19,
   "id": "95a0a430",
   "metadata": {},
   "outputs": [
    {
     "name": "stdout",
     "output_type": "stream",
     "text": [
      "O produto Arroz 5kg custa R$ 24.9.\n"
     ]
    }
   ],
   "source": [
    "produto = (\"Arroz 5kg\", 24.90)\n",
    "nome, preco = produto\n",
    "\n",
    "print(f\"O produto {nome} custa R$ {preco}.\")"
   ]
  },
  {
   "cell_type": "markdown",
   "id": "5eeaa893",
   "metadata": {},
   "source": [
    "### Exercício 6 - Tupla de tuplas"
   ]
  },
  {
   "cell_type": "code",
   "execution_count": 20,
   "id": "a4a1c015",
   "metadata": {},
   "outputs": [
    {
     "name": "stdout",
     "output_type": "stream",
     "text": [
      "Produto: Arroz | Preço: R$ 24.90\n",
      "Produto: Feijão | Preço: R$ 8.50\n",
      "Produto: Leite | Preço: R$ 4.80\n"
     ]
    }
   ],
   "source": [
    "carrinho = ( (\"Arroz\", 24.90), (\"Feijão\", 8.50), (\"Leite\", 4.80) )\n",
    "\n",
    "for nome, preco in carrinho:\n",
    "    print(f\"Produto: {nome} | Preço: R$ {preco:.2f}\")"
   ]
  },
  {
   "cell_type": "markdown",
   "id": "5568b183",
   "metadata": {},
   "source": [
    "### Exercício 7 - Acesso a valores"
   ]
  },
  {
   "cell_type": "code",
   "execution_count": 21,
   "id": "275b4030",
   "metadata": {},
   "outputs": [
    {
     "name": "stdout",
     "output_type": "stream",
     "text": [
      "Preço do Leite: 4.8\n",
      "Preço do Feijão: 8.5\n"
     ]
    }
   ],
   "source": [
    "tabela = { \"Arroz\": 24.90, \"Feijão\": 8.50, \"Leite\": 4.80, \"Açúcar\": 3.90 }\n",
    "\n",
    "print(f\"Preço do Leite: {tabela[\"Leite\"]}\", )\n",
    "print(f\"Preço do Feijão: {tabela[\"Feijão\"]}\")"
   ]
  },
  {
   "cell_type": "markdown",
   "id": "c3c55c48",
   "metadata": {},
   "source": [
    "### Exercício 8 - Adição e atualização"
   ]
  },
  {
   "cell_type": "code",
   "execution_count": 22,
   "id": "5d9951c2",
   "metadata": {},
   "outputs": [
    {
     "name": "stdout",
     "output_type": "stream",
     "text": [
      "Dicionário atualizado: {'Arroz': 24.9, 'Feijão': 8.5, 'Leite': 4.8, 'Açúcar': 4.1, 'Café': 14.2}\n"
     ]
    }
   ],
   "source": [
    "tabela[\"Café\"] = 14.20\n",
    "tabela[\"Açúcar\"] = 4.10\n",
    "\n",
    "print(f\"Dicionário atualizado: {tabela}\")"
   ]
  },
  {
   "cell_type": "markdown",
   "id": "d8bfbf44",
   "metadata": {},
   "source": [
    "### Exercício 9 - Iteração sobre o dicionário"
   ]
  },
  {
   "cell_type": "code",
   "execution_count": 23,
   "id": "ab7808fa",
   "metadata": {},
   "outputs": [
    {
     "name": "stdout",
     "output_type": "stream",
     "text": [
      "Sabonete: R$ 2.50\n",
      "Shampoo: R$ 15.00\n",
      "Condicionador: R$ 16.50\n"
     ]
    }
   ],
   "source": [
    "compras = { \"Sabonete\": 2.50, \"Shampoo\": 15.00, \"Condicionador\": 16.50 }\n",
    "\n",
    "for produto, preco in compras.items():\n",
    "    print(f\"{produto}: R$ {preco:.2f}\")"
   ]
  },
  {
   "cell_type": "markdown",
   "id": "4968b09f",
   "metadata": {},
   "source": [
    "### Exercício 10 - Mini-Max Sum"
   ]
  },
  {
   "cell_type": "code",
   "execution_count": 24,
   "id": "15e246dd",
   "metadata": {},
   "outputs": [
    {
     "name": "stdout",
     "output_type": "stream",
     "text": [
      "16 24\n"
     ]
    }
   ],
   "source": [
    "numeros = [1, 3, 5, 7, 9]\n",
    "\n",
    "min_sum = sum(sorted(numeros)[:4])\n",
    "max_sum = sum(sorted(numeros)[1:])\n",
    "\n",
    "print(min_sum, max_sum)"
   ]
  },
  {
   "cell_type": "markdown",
   "id": "cb603be6",
   "metadata": {},
   "source": [
    "### Exercício 11 - Top 3 Sum"
   ]
  },
  {
   "cell_type": "code",
   "execution_count": 25,
   "id": "6d4b9fdc",
   "metadata": {},
   "outputs": [
    {
     "name": "stdout",
     "output_type": "stream",
     "text": [
      "10 30\n"
     ]
    }
   ],
   "source": [
    "numeros = [10, 3, 5, 7, 2, 8, 12]\n",
    "\n",
    "min_soma = sum(sorted(numeros)[:3])\n",
    "max_soma = sum(sorted(numeros)[-3:])\n",
    "\n",
    "print(min_soma, max_soma)"
   ]
  },
  {
   "cell_type": "markdown",
   "id": "9c2752aa",
   "metadata": {},
   "source": [
    "### Exercício 12 - \"Alunos Matriculados\""
   ]
  },
  {
   "cell_type": "code",
   "execution_count": 26,
   "id": "915ba25b",
   "metadata": {},
   "outputs": [
    {
     "name": "stdout",
     "output_type": "stream",
     "text": [
      "Exclusivos do curso A:{('Ana', 101)}\n",
      "Exclusivos do curso B: {('Marina', 104)}\n",
      "Matriculados nos dois cursos: {('João', 103), ('Carlos', 102)}\n"
     ]
    }
   ],
   "source": [
    "curso_a = {(\"Ana\", 101), (\"Carlos\", 102), (\"João\", 103)}\n",
    "curso_b = {(\"João\", 103), (\"Marina\", 104), (\"Carlos\", 102)}\n",
    "\n",
    "exclusivo_a = curso_a - curso_b\n",
    "exclusivo_b = curso_b - curso_a\n",
    "matriculados_ambos = curso_a.intersection(curso_b)\n",
    "\n",
    "print(f\"Exclusivos do curso A:{exclusivo_a}\")\n",
    "print(f\"Exclusivos do curso B: {exclusivo_b}\")\n",
    "print(f\"Matriculados nos dois cursos: {matriculados_ambos}\")"
   ]
  },
  {
   "cell_type": "markdown",
   "id": "6f6989df",
   "metadata": {},
   "source": [
    "### Exercício 13 - \"Médias dos Alunos\""
   ]
  },
  {
   "cell_type": "code",
   "execution_count": 27,
   "id": "3b6dc539",
   "metadata": {},
   "outputs": [
    {
     "name": "stdout",
     "output_type": "stream",
     "text": [
      "Médias dos alunos: {'Ana': 7.75, 'Carlos': 5.5, 'Beatriz': 8.75, 'Daniel': 6.25}\n",
      "Aprovados: ['Ana', 'Beatriz']\n",
      "Reprovados: ['Carlos', 'Daniel']\n"
     ]
    }
   ],
   "source": [
    "boletim = { \"Ana\": (8.0, 7.5), \"Carlos\": (5.0, 6.0), \"Beatriz\": (9.0, 8.5), \"Daniel\": (6.0, 6.5) }\n",
    "\n",
    "medias = {nome: sum(notas)/len(notas) for nome, notas in boletim.items()}\n",
    "aprovados = sorted([nome for nome, media in medias.items() if media >= 7.0])\n",
    "reprovados = sorted([nome for nome, media in medias.items() if media < 7.0])\n",
    "\n",
    "print(f\"Médias dos alunos: {medias}\")\n",
    "print(f\"Aprovados: {aprovados}\")\n",
    "print(f\"Reprovados: {reprovados}\")"
   ]
  },
  {
   "cell_type": "markdown",
   "id": "a1e84357",
   "metadata": {},
   "source": [
    "### Exercício 14 - \"Número Inteiro para Romano\""
   ]
  },
  {
   "cell_type": "code",
   "execution_count": 28,
   "id": "06d178ec",
   "metadata": {},
   "outputs": [
    {
     "name": "stdout",
     "output_type": "stream",
     "text": [
      "XII\n"
     ]
    }
   ],
   "source": [
    "def int_to_roman(n):\n",
    "    valores = [\n",
    "        (1000,'M'), (900,'CM'), (500, 'D'), (400,'CD'), \n",
    "        (100,'C'), (90,'XC'), (50,'L'), (40, 'XL'), \n",
    "        (10,'X'), (9,'IX'), (5,'V'), (4,'IV'), (1, 'I')\n",
    "    ]\n",
    "    \n",
    "    resultado = ''\n",
    "    \n",
    "    for valor, simbolo in valores:\n",
    "        while n >= valor:\n",
    "            resultado += simbolo\n",
    "            n -= valor\n",
    "    return resultado\n",
    "\n",
    "resultado = int(input('Digite um número: '))\n",
    "print(f'{int_to_roman(resultado)}')"
   ]
  }
 ],
 "metadata": {
  "kernelspec": {
   "display_name": "Python 3",
   "language": "python",
   "name": "python3"
  },
  "language_info": {
   "codemirror_mode": {
    "name": "ipython",
    "version": 3
   },
   "file_extension": ".py",
   "mimetype": "text/x-python",
   "name": "python",
   "nbconvert_exporter": "python",
   "pygments_lexer": "ipython3",
   "version": "3.13.3"
  }
 },
 "nbformat": 4,
 "nbformat_minor": 5
}

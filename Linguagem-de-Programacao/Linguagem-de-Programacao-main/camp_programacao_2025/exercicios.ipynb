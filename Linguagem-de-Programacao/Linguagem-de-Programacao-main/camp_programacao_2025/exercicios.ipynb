{
 "cells": [
  {
   "cell_type": "markdown",
   "id": "c3f13040",
   "metadata": {},
   "source": [
    "### Exercicio A"
   ]
  },
  {
   "cell_type": "code",
   "execution_count": null,
   "id": "f0b38f46",
   "metadata": {},
   "outputs": [
    {
     "name": "stdout",
     "output_type": "stream",
     "text": [
      "O valor decimal correspondente é: 15\n"
     ]
    }
   ],
   "source": [
    "def mayan_to_decimal(digito_maya):\n",
    "    valores = []  # Lista para armazenar os valores individuais\n",
    "    \n",
    "    for simbolo in reversed(digito_maya.split()):  # Lendo de baixo para cima\n",
    "        if simbolo == \"*\":\n",
    "            valores.append(0)  # O asterisco representa zero e encerra o processo\n",
    "            break\n",
    "        cont_pontos = simbolo.count('.')\n",
    "        cont_hifen = simbolo.count('-')\n",
    "        maya_valor = cont_pontos + (cont_hifen * 5)\n",
    "        valores.append(maya_valor)\n",
    "\n",
    "    # Convertendo para decimal usando potências de 20\n",
    "    valor_decimal = sum(val * (20 ** i) for i, val in enumerate(valores))\n",
    "    return valor_decimal\n",
    "\n",
    "# Interface de entrada do usuário\n",
    "entrada = input('')\n",
    "resultado = mayan_to_decimal(entrada)\n",
    "\n",
    "print(resultado)"
   ]
  },
  {
   "cell_type": "markdown",
   "id": "58dcf7bc",
   "metadata": {},
   "source": [
    "### Exercicio B"
   ]
  },
  {
   "cell_type": "code",
   "execution_count": null,
   "id": "a8dab317",
   "metadata": {},
   "outputs": [
    {
     "name": "stdout",
     "output_type": "stream",
     "text": [
      "Agora, insira os dados dos times (Nome | Fatec | Problemas Resolvidos | Tempo Total):\n",
      "\n",
      " Classificados para a Final\n",
      "Time 02 - Fatec A (3,110)\n",
      "Time 03 - Fatec B (3,100)\n",
      "Time 05 - Fatec B (4,210)\n",
      "Time 07 - Fatec C (3,151)\n",
      "Time 09 - Fatec E (2,130)\n",
      "Time 10 - Fatec E (3,140)\n",
      "Time 11 - Fatec E (2,330)\n",
      "Time 13 - Fatec F (1,200)\n",
      "\n",
      "Lista de Espera\n",
      "Time 01 - Fatec A (3,150)\n",
      "Time 06 - Fatec C (2,90)\n",
      "Time 04 - Fatec B (2,280)\n",
      "Time 12 - Fatec E (1,180)\n",
      "\n",
      "Desclassificados\n",
      "Time 08 - Fatec D (0,0)\n",
      "Time 14 - Fatec F (0,0)\n",
      "\n",
      "Apuracao concluida!\n"
     ]
    }
   ],
   "source": [
    "def ordenar_por_nome(times):\n",
    "    \"\"\"Ordena a lista de times pelo nome.\"\"\"\n",
    "    return sorted(times, key=ordenar_nome)\n",
    "\n",
    "def ordenar_nome(time):\n",
    "    \"\"\"Retorna o nome do time para ordenação.\"\"\"\n",
    "    return time[0]\n",
    "\n",
    "def ordenar_por_pontuacao(times):\n",
    "    \"\"\"Ordena a lista de times pela quantidade de problemas resolvidos (decrescente) e pelo tempo (crescente).\"\"\"\n",
    "    return sorted(times, key=ordenar_pontuacao)\n",
    "\n",
    "def ordenar_pontuacao(time):\n",
    "    \"\"\"Retorna os valores de problemas resolvidos e tempo total para ordenação.\"\"\"\n",
    "    return (-time[2], time[3])\n",
    "\n",
    "def process_scoreboard(fatec_sede, vagas_totais, vagas_extras, times):\n",
    "    classificados = []\n",
    "    lista_espera = []\n",
    "    desclassificados = []\n",
    "\n",
    "    # Filtrar times desclassificados (sem problemas resolvidos)\n",
    "    times_validos = [t for t in times if t[2] > 0]\n",
    "    desclassificados = [t for t in times if t[2] == 0]\n",
    "\n",
    "    # Ordenar por pontuação\n",
    "    times_validos = ordenar_por_pontuacao(times_validos)\n",
    "\n",
    "    # Garantir classificação do melhor time de cada Fatec\n",
    "    melhores_por_fatec = []\n",
    "    fatecs_classificadas = []\n",
    "\n",
    "    for time in times_validos:\n",
    "        if time[1] not in fatecs_classificadas:\n",
    "            melhores_por_fatec.append(time)\n",
    "            fatecs_classificadas.append(time[1])\n",
    "\n",
    "    # Classificar times da sede\n",
    "    sede_times = [t for t in times_validos if t[1] == fatec_sede][:vagas_extras + 1]\n",
    "    \n",
    "    # Preencher vagas restantes\n",
    "    restantes = [t for t in times_validos if t not in melhores_por_fatec and t not in sede_times]\n",
    "    classificados = melhores_por_fatec + sede_times + restantes[:vagas_totais - len(melhores_por_fatec) - len(sede_times)]\n",
    "\n",
    "    # Gerar lista de espera\n",
    "    lista_espera = [t for t in times_validos if t not in classificados]\n",
    "\n",
    "    # Função para formatar a saída\n",
    "    def format_output(titulo, lista_times):\n",
    "        output = [titulo]\n",
    "        for time in ordenar_por_nome(lista_times):\n",
    "            output.append(f\"{time[0]} - {time[1]} ({time[2]},{time[3]})\")\n",
    "        return \"\\n\".join(output)\n",
    "\n",
    "    return \"\\n\\n\".join([\n",
    "        format_output(f'Classificados para a Final {classificados}'),\n",
    "        format_output(f'Lista de Espera {ordenar_por_pontuacao(lista_espera)}'),\n",
    "        format_output(f'Desclassificados {ordenar_por_nome(desclassificados)}'),\n",
    "        'Apuracao concluida!'\n",
    "    ])\n",
    "\n",
    "\n",
    "# Entrada de dados via usuário\n",
    "def main():\n",
    "    fatec_sede = input().strip()\n",
    "    vagas_totais, vagas_extras = map(int, input().split())\n",
    "    nt = int(input())\n",
    "\n",
    "    times = [tuple(input().strip().split(\"|\")) for _ in range(nt)]\n",
    "    times = [(t[0].strip(), t[1].strip(), int(t[2]), int(t[3])) for t in times]  # Convertendo para tupla com valores corretos\n",
    "\n",
    "    print(\"\\n\", process_scoreboard(fatec_sede, vagas_totais, vagas_extras, times))\n",
    "\n",
    "\n",
    "# Chama a função main()\n",
    "main()"
   ]
  },
  {
   "cell_type": "markdown",
   "id": "02edeb7d",
   "metadata": {},
   "source": [
    "### Exercicio C"
   ]
  },
  {
   "cell_type": "code",
   "execution_count": 2,
   "id": "5075f9ee",
   "metadata": {},
   "outputs": [
    {
     "name": "stdout",
     "output_type": "stream",
     "text": [
      "REGAR\n",
      "NAO REGAR\n",
      "REGAR\n"
     ]
    }
   ],
   "source": [
    "# Lê o número de conjuntos de leituras\n",
    "N = int(input())\n",
    "\n",
    "# Processa cada conjunto de leituras\n",
    "for _ in range(N):\n",
    "    # Lê os valores de Temperatura, Umidade do Solo e Previsão de Chuva\n",
    "    T, U, P = map(float, input().split())\n",
    "\n",
    "    # Aplica as regras de decisão\n",
    "    if P == 1:\n",
    "        print(\"NAO REGAR\")\n",
    "    elif T > 30.0 and U < 50.0:\n",
    "        print(\"REGAR\")\n",
    "    else:\n",
    "        print(\"NAO REGAR\")"
   ]
  },
  {
   "cell_type": "markdown",
   "id": "08c6f40e",
   "metadata": {},
   "source": [
    "### Exercicio D"
   ]
  },
  {
   "cell_type": "code",
   "execution_count": 4,
   "id": "45c2e9e5",
   "metadata": {},
   "outputs": [
    {
     "name": "stdout",
     "output_type": "stream",
     "text": [
      "20\n"
     ]
    }
   ],
   "source": [
    "def maior_soma_subsequencia(N, valores):\n",
    "    max_soma = float('-inf')\n",
    "\n",
    "    for k in range(1, N//2 + 1):\n",
    "        for i in range(k):\n",
    "            soma_atual = 0\n",
    "            for j in range(i, N, k):\n",
    "                soma_atual += valores[j]\n",
    "            max_soma = max(max_soma, soma_atual)\n",
    "\n",
    "    return max_soma\n",
    "\n",
    "# Exemplo de entrada:\n",
    "N = int(input())\n",
    "valores = list(map(int, input().split()))\n",
    "\n",
    "# Exibir a maior soma possível\n",
    "print(maior_soma_subsequencia(N, valores))"
   ]
  },
  {
   "cell_type": "markdown",
   "id": "6dcb5d73",
   "metadata": {},
   "source": [
    "Exercicio E"
   ]
  },
  {
   "cell_type": "code",
   "execution_count": 6,
   "id": "fc7d807c",
   "metadata": {},
   "outputs": [
    {
     "name": "stdout",
     "output_type": "stream",
     "text": [
      "6.0271\n",
      "15.1602\n",
      "25.0001\n"
     ]
    }
   ],
   "source": [
    "# Função para calcular a área \n",
    "def calcular_area(a, b, theta):\n",
    "    pi = 3.14159265358979323846\n",
    "    \n",
    "    # Converter graus para radianos\n",
    "    theta = theta * (pi / 180)\n",
    "   \n",
    "    # Calcular o seno aproximado usando a série de Taylor (poucos termos)\n",
    "    seno = theta - (theta**3 / 6) + (theta**5 / 120)\n",
    "    \n",
    "    # Calcular a área\n",
    "    area = 0.5 * a * b * seno\n",
    "    return round(area, 4)  # Arredondar para 4 casas decimais\n",
    "\n",
    "# Ler e processar a entrada\n",
    "while True:\n",
    "    entrada = input().strip()\n",
    "    if entrada == \"0 0 0\": # Encerra o código\n",
    "        break\n",
    "    a, b, theta = map(float, entrada.split())\n",
    "    print(f\"{calcular_area(a, b, theta):.4f}\")"
   ]
  },
  {
   "cell_type": "markdown",
   "id": "e05a3a31",
   "metadata": {},
   "source": [
    "### Exercicio F"
   ]
  },
  {
   "cell_type": "code",
   "execution_count": 9,
   "id": "2624808c",
   "metadata": {},
   "outputs": [
    {
     "name": "stdout",
     "output_type": "stream",
     "text": [
      "1\n"
     ]
    }
   ],
   "source": [
    "def calcular_suprimentos():\n",
    "    n = int(input()) \n",
    "    saldo = 0\n",
    "    minimo_inicial = 0\n",
    "\n",
    "    for _ in range(n):\n",
    "        t = int(input())  \n",
    "        saldo += t\n",
    "        if saldo < 0:\n",
    "            minimo_inicial = max(minimo_inicial, abs(saldo)) # abs reotrna o valor absoluto\n",
    "\n",
    "    print(minimo_inicial) \n",
    "\n",
    "calcular_suprimentos()"
   ]
  },
  {
   "cell_type": "markdown",
   "id": "be3fb409",
   "metadata": {},
   "source": [
    "### Exercicio G"
   ]
  },
  {
   "cell_type": "code",
   "execution_count": 64,
   "id": "29c9bfa7",
   "metadata": {},
   "outputs": [],
   "source": [
    "def solve():\n",
    "    ds, ys = map(int, input().split())\n",
    "    dm, ym = map(int, input().split())\n",
    "\n",
    "    for t in range(1, 5001):  # Itera de 1 a 5000 minutos\n",
    "        # Verifica se o guarda 1 está no posto no minuto 't'\n",
    "        # O tempo 't' deve ser igual a (multiplo de ys) - ds\n",
    "        # Ou seja, (t + ds) deve ser um múltiplo de ys\n",
    "        guard1_at_post = (t + ds) % ys == 0\n",
    "\n",
    "        # Verifica se o guarda 2 está no posto no minuto 't'\n",
    "        # (t + dm) deve ser um múltiplo de ym\n",
    "        guard2_at_post = (t + dm) % ym == 0\n",
    "\n",
    "        if guard1_at_post and guard2_at_post:\n",
    "            print(t)\n",
    "            return\n",
    "\n",
    "solve()"
   ]
  },
  {
   "cell_type": "markdown",
   "id": "46980ed3",
   "metadata": {},
   "source": [
    "### Exercicio H"
   ]
  },
  {
   "cell_type": "code",
   "execution_count": null,
   "id": "ddfb3377",
   "metadata": {},
   "outputs": [
    {
     "name": "stdout",
     "output_type": "stream",
     "text": [
      "Aldo-Beto = 1\n",
      "Aldo-Cris = 2\n",
      "Aldo-Drica = 1\n",
      "Aldo-Ella = 2\n",
      "Aldo-Fran = 3\n",
      "Aldo-Gigi = 3\n",
      "Aldo-Isa = sem conexao\n",
      "Aldo-Katy = sem conexao\n",
      "Beto-Aldo = 1\n",
      "Beto-Gigi = 2\n",
      "Cris-Aldo = 2\n",
      "Cris-Drica = 3\n",
      "Cris-Gigi = 3\n",
      "Cris-Isa = sem conexao\n",
      "Drica-Fran = 2\n",
      "Drica-Katy = sem conexao\n",
      "Fran-Aldo = 3\n",
      "Fran-Beto = 2\n",
      "Gigi-Aldo = 3\n",
      "Isa-Katy = 1\n",
      "Katy-Isa = 1\n",
      "Isa-Aldo = sem conexao\n",
      "Katy-Gigi = sem conexao\n"
     ]
    }
   ],
   "source": [
    "def busca_largura(grafo, inicio, fim):\n",
    "    if inicio not in grafo or fim not in grafo:\n",
    "        return \"sem conexao\"\n",
    "\n",
    "    fila = [[inicio, 0]]  # Lista simulando uma fila\n",
    "    visitados = {inicio}  # Conjunto para armazenar nós já visitados\n",
    "\n",
    "    while fila:\n",
    "        atual, distancia = fila.pop(0)  # Remove o primeiro elemento (FIFO)\n",
    "        if atual == fim:\n",
    "            return str(distancia)\n",
    "\n",
    "        for vizinho in grafo[atual]:\n",
    "            if vizinho not in visitados:\n",
    "                visitados.add(vizinho)\n",
    "                fila.append([vizinho, distancia + 1])\n",
    "\n",
    "    return \"sem conexao\"\n",
    "\n",
    "def fatectok():\n",
    "    # Leitura da primeira parte: conexões\n",
    "    quantidade_conexoes = int(input().strip())\n",
    "    grafo = {}\n",
    "\n",
    "    for _ in range(quantidade_conexoes):\n",
    "        aluno1, aluno2 = input().split()\n",
    "        if aluno1 not in grafo:\n",
    "            grafo[aluno1] = []\n",
    "        if aluno2 not in grafo:\n",
    "            grafo[aluno2] = []\n",
    "        grafo[aluno1].append(aluno2)\n",
    "        grafo[aluno2].append(aluno1)\n",
    "\n",
    "    # Linha separadora\n",
    "    input()\n",
    "\n",
    "    # Segunda parte: consultas de distância\n",
    "    while True:\n",
    "        consulta = input().strip()\n",
    "        if consulta == \"* *\":\n",
    "            break\n",
    "        aluno1, aluno2 = consulta.split()\n",
    "        print(f\"{aluno1}-{aluno2} = {busca_largura(grafo, aluno1, aluno2)}\")\n",
    "\n",
    "\n",
    "fatectok()"
   ]
  },
  {
   "cell_type": "markdown",
   "id": "02aee31f",
   "metadata": {},
   "source": [
    "### Exercicio I"
   ]
  },
  {
   "cell_type": "code",
   "execution_count": null,
   "id": "baa7426f",
   "metadata": {},
   "outputs": [
    {
     "name": "stdout",
     "output_type": "stream",
     "text": [
      "DOROTHY DECIDE\n",
      "DOROTHY DECIDE E A NONNA VAI\n",
      "DAGMAR DECIDE\n",
      "DAGMAR DECIDE E A NONNA VAI\n"
     ]
    }
   ],
   "source": [
    "Q = int(input())\n",
    "\n",
    "for _ in range(Q):\n",
    "    dorothy = int(input())\n",
    "    dagmar = int(input())\n",
    "    \n",
    "    if dorothy > dagmar:\n",
    "        if dorothy + dagmar > 40:\n",
    "            print(\"DOROTHY DECIDE E A NONNA VAI\")\n",
    "        else:\n",
    "            print(\"DOROTHY DECIDE\")\n",
    "    else:\n",
    "        if dorothy + dagmar > 40:\n",
    "            print(\"DAGMAR DECIDE E A NONNA VAI\")\n",
    "        else:\n",
    "            print(\"DAGMAR DECIDE\")"
   ]
  },
  {
   "cell_type": "markdown",
   "id": "9c05443f",
   "metadata": {},
   "source": [
    "### Exercicio J"
   ]
  },
  {
   "cell_type": "code",
   "execution_count": 60,
   "id": "3b351c07",
   "metadata": {},
   "outputs": [
    {
     "name": "stdout",
     "output_type": "stream",
     "text": [
      "11000\n"
     ]
    }
   ],
   "source": [
    "def camisetas_tecnologicas():\n",
    "    T = int(input())\n",
    "    \n",
    "    camisetas = []\n",
    "    for _ in range(3):\n",
    "        q, l = map(int, input().split())\n",
    "        camisetas.append((q, l))\n",
    "        \n",
    "    dp = [0] * (T + 1)\n",
    "    \n",
    "    for i in range(1, T + 1):\n",
    "        for q, l in camisetas:\n",
    "            if i >= q:\n",
    "                dp[i] = max(dp[i], dp[i - q] + l)\n",
    "                \n",
    "    print(dp[T])\n",
    "\n",
    "camisetas_tecnologicas()"
   ]
  },
  {
   "cell_type": "markdown",
   "id": "715c46c7",
   "metadata": {},
   "source": [
    "### Exercicio k"
   ]
  },
  {
   "cell_type": "code",
   "execution_count": 62,
   "id": "f2d8a6c1",
   "metadata": {},
   "outputs": [
    {
     "name": "stdout",
     "output_type": "stream",
     "text": [
      "60\n"
     ]
    }
   ],
   "source": [
    "T = int(input())\n",
    "V = int(input())\n",
    "C = int(input())\n",
    "M = int(input())\n",
    "\n",
    "# Calculando o tempo gasto se a fonte for instalada em cada nível\n",
    "tempo_no_vale = (C * T + M * 2 * T) * 2\n",
    "tempo_na_colina = (V * T + M * T) * 2\n",
    "tempo_no_topo = (V * 2 * T + C * T) * 2\n",
    "\n",
    "# Obtendo o menor tempo possível\n",
    "resultado = min(tempo_no_vale, tempo_na_colina, tempo_no_topo)\n",
    "\n",
    "\n",
    "print(resultado)"
   ]
  }
 ],
 "metadata": {
  "kernelspec": {
   "display_name": "Python 3",
   "language": "python",
   "name": "python3"
  },
  "language_info": {
   "codemirror_mode": {
    "name": "ipython",
    "version": 3
   },
   "file_extension": ".py",
   "mimetype": "text/x-python",
   "name": "python",
   "nbconvert_exporter": "python",
   "pygments_lexer": "ipython3",
   "version": "3.13.3"
  }
 },
 "nbformat": 4,
 "nbformat_minor": 5
}
